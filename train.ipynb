{
 "cells": [
  {
   "cell_type": "markdown",
   "metadata": {},
   "source": [
    "### NN"
   ]
  },
  {
   "cell_type": "code",
   "execution_count": 1,
   "metadata": {},
   "outputs": [],
   "source": [
    "import os\n",
    "import pandas as pd\n",
    "import numpy as np\n",
    "import imageio\n",
    "import random\n",
    "import torch\n",
    "import torch.nn as nn\n",
    "from sklearn.metrics import roc_curve, roc_auc_score"
   ]
  },
  {
   "cell_type": "code",
   "execution_count": 2,
   "metadata": {},
   "outputs": [],
   "source": [
    "train_path = './train_data'\n",
    "df_train = pd.read_csv('./df_train.csv')\n",
    "\n",
    "val_path = './validation_data'\n",
    "df_val = pd.read_csv('./df_validation.csv')\n",
    "\n",
    "small_path = './small_sample'\n",
    "df_small = pd.read_csv('./df_small.csv')"
   ]
  },
  {
   "cell_type": "code",
   "execution_count": 3,
   "metadata": {},
   "outputs": [],
   "source": [
    "def read_batch_images(images, df, path):\n",
    "    features_target = []\n",
    "    for im in images:\n",
    "        current_image = np.array(imageio.imread(os.path.join(path, im)))/255\n",
    "        image_id = int(im.split('.')[0])\n",
    "        target = int(df[df.id == image_id]['broken'])\n",
    "        features_target.append((current_image, target))\n",
    "    return features_target"
   ]
  },
  {
   "cell_type": "code",
   "execution_count": 4,
   "metadata": {},
   "outputs": [],
   "source": [
    "def batch_generator(df, path, batch_size):\n",
    "    images_name = [f for f in os.listdir(path) if f.split('.')[1] == 'png']\n",
    "    random.shuffle(images_name)\n",
    "    n = len(df)\n",
    "    for i in range(0, n, batch_size):\n",
    "        images_filter = images_name[i:(i+batch_size)]\n",
    "        data = read_batch_images(images_filter, df, path)\n",
    "        yield data"
   ]
  },
  {
   "cell_type": "code",
   "execution_count": 5,
   "metadata": {},
   "outputs": [],
   "source": [
    "class BasicNet(nn.Module):\n",
    "    def __init__(self):\n",
    "        super().__init__()\n",
    "        self.conv1 = nn.Conv2d(1, 32, 3)\n",
    "        self.conv2 = nn.Conv2d(32, 16, 3)\n",
    "        self.conv3 = nn.Conv2d(16, 8, 3)\n",
    "        self.fc1 = nn.Linear(12800,512)\n",
    "        self.fc2 = nn.Linear(512, 128)\n",
    "        self.fc3 = nn.Linear(128, 1)\n",
    "        self.pool = nn.MaxPool2d(2)\n",
    "        self.relu = nn.ReLU()\n",
    "        self.drp1 = nn.Dropout(0.25)\n",
    "        self.drp2 = nn.Dropout(0.25)\n",
    "        \n",
    "    def forward(self, x):\n",
    "        fo = self.pool(self.relu(self.conv1(x)))\n",
    "        so = self.pool(self.relu(self.conv2(fo)))\n",
    "        to = self.pool(self.relu(self.conv3(so))).view(-1,12800)\n",
    "        fc1_out = self.drp1(self.relu(self.fc1(to)))\n",
    "        fc2_out = self.drp2(self.relu(self.fc2(fc1_out)))\n",
    "        out = self.fc3(fc2_out)\n",
    "        return out"
   ]
  },
  {
   "cell_type": "code",
   "execution_count": 12,
   "metadata": {},
   "outputs": [],
   "source": [
    "def get_performance_metrics(target, score):\n",
    "    fpr, tpr, threshold = roc_curve(target, score)\n",
    "    tnr = [1-f for f in fpr]\n",
    "    auc_roc = roc_auc_score(target, score)\n",
    "    df = pd.DataFrame({'sens' : tpr, 'spec': tnr, 'threshold': threshold})\n",
    "    good_metrics = df[df.sens >= 0.85] \n",
    "    index_best = np.argmax(good_metrics.spec)\n",
    "    df_best = good_metrics.iloc[index_best]\n",
    "    best_sens = df_best.sens\n",
    "    best_spec = df_best.spec\n",
    "    best_th = df_best.threshold\n",
    "\n",
    "    return  auc_roc, best_sens, best_spec, best_th\n",
    "    \n",
    "def train(model, optimizer, criterion, df_train, train_path, df_val, val_path, num_epochs, batch_size, device):\n",
    "    for i in range(num_epochs):\n",
    "        total_loss = 0\n",
    "        val_losses = []\n",
    "        tr_losses = []\n",
    "        model.train()\n",
    "        for batch in batch_generator(df_train, train_path, batch_size):\n",
    "            x = [d[0] for d in batch]\n",
    "            y = [d[1] for d in batch]\n",
    "            n_batch_size = len(x) if len(x) < batch_size else batch_size\n",
    "            x_t = torch.tensor(x, dtype=torch.float, device=device).view(n_batch_size, 1, 340, 340)\n",
    "            y_t = torch.tensor(y, dtype=torch.float, device=device)\n",
    "            model.zero_grad()\n",
    "            output = model(x_t)\n",
    "            loss = criterion(output.view(-1), y_t)\n",
    "            loss.backward()\n",
    "            optimizer.step()\n",
    "            total_loss += loss.item()\n",
    "        val_probs, ys, val_loss = validate(model, criterion, df_val, val_path, batch_size, device)\n",
    "        val_losses += [val_loss / df_val.shape[0]]\n",
    "        tr_losses += [total_loss / df_train.shape[0]]\n",
    "        auc_roc, sens, spec, th = get_performance_metrics(ys, val_probs)\n",
    "        \n",
    "        print('Epoch {}, avg train loss per image {}, avg valid loss per image {}, auc {}, sens {}, spec {}, th {}'.format(\n",
    "            i+1, tr_losses[-1], val_losses[-1], auc_roc, sens, spec, th\n",
    "        ))\n",
    "    return tr_losses[-1], val_losses[-1]\n",
    "\n",
    "def validate(model, criterion, df_val, val_path, batch_size, device):\n",
    "    model.eval()\n",
    "    val_total_loss = 0\n",
    "    probs = []\n",
    "    ys = []\n",
    "    sigmoid = torch.nn.Sigmoid()\n",
    "    with torch.no_grad():\n",
    "        for batch in batch_generator(df_val, val_path, batch_size):\n",
    "            x = [d[0] for d in batch]\n",
    "            y = [d[1] for d in batch]\n",
    "            n_batch_size = len(x) if len(x) < batch_size else batch_size\n",
    "            x_t = torch.tensor(x, dtype=torch.float, device=device).view(n_batch_size, 1, 340, 340)\n",
    "            y_t = torch.tensor(y, dtype=torch.float, device=device)\n",
    "            output = model(x_t)\n",
    "            probs += list(sigmoid(output).view(-1).detach().cpu().numpy())\n",
    "            ys += y\n",
    "            loss = criterion(output.view(-1), y_t)\n",
    "            val_total_loss += loss.item()\n",
    "    return probs, ys, val_total_loss"
   ]
  },
  {
   "cell_type": "code",
   "execution_count": 18,
   "metadata": {},
   "outputs": [],
   "source": [
    "epochs = 100\n",
    "batch_size = 100\n",
    "learning_rate = 0.001\n",
    "device = torch.device('cuda')\n",
    "model = BasicNet().to(device)\n",
    "optimizer = torch.optim.Adam(model.parameters(), lr=learning_rate)\n",
    "criterion = nn.BCEWithLogitsLoss(reduction='sum')"
   ]
  },
  {
   "cell_type": "code",
   "execution_count": null,
   "metadata": {},
   "outputs": [
    {
     "name": "stdout",
     "output_type": "stream",
     "text": [
      "Epoch 1, avg train loss per image 0.4506478410819032, avg valid loss per image 0.40465728914563875, auc 0.754888771830301, sens 0.8521739130434782, spec 0.548928238583411, th 0.1781543642282486\n",
      "Epoch 2, avg train loss per image 0.39391232807594295, avg valid loss per image 0.40668944411797425, auc 0.782017099558329, sens 0.8565217391304348, spec 0.5890027958993476, th 0.09073594212532043\n",
      "Epoch 3, avg train loss per image 0.3602186768712682, avg valid loss per image 0.3536726556552527, auc 0.837031484257871, sens 0.8565217391304348, spec 0.6700838769804287, th 0.2089560627937317\n",
      "Epoch 4, avg train loss per image 0.30663807099146717, avg valid loss per image 0.3163128809707492, auc 0.8705052878965923, sens 0.8521739130434782, spec 0.6924510717614165, th 0.13388581573963165\n",
      "Epoch 5, avg train loss per image 0.24161777803822948, avg valid loss per image 0.3129659590589387, auc 0.8814173994084039, sens 0.8521739130434782, spec 0.7325256290773532, th 0.17592306435108185\n",
      "Epoch 6, avg train loss per image 0.19194466276650446, avg valid loss per image 0.3491026770583685, auc 0.8860407634020828, sens 0.8521739130434782, spec 0.7604846225535881, th 0.06594555079936981\n",
      "Epoch 7, avg train loss per image 0.15512985343073402, avg valid loss per image 0.31460717610345834, auc 0.8961465213339277, sens 0.8565217391304348, spec 0.7576887232059646, th 0.05765711888670921\n",
      "Epoch 8, avg train loss per image 0.12440572778808774, avg valid loss per image 0.3354972313663544, auc 0.899412455934195, sens 0.8521739130434782, spec 0.7744641192917054, th 0.0567818246781826\n",
      "Epoch 9, avg train loss per image 0.09531736322915324, avg valid loss per image 0.39849774492011103, auc 0.8975809392600996, sens 0.8521739130434782, spec 0.782851817334576, th 0.08816719800233841\n",
      "Epoch 10, avg train loss per image 0.07316720018968866, avg valid loss per image 0.43213413974823445, auc 0.903213258235747, sens 0.8521739130434782, spec 0.8145386766076421, th 0.030690977349877357\n",
      "Epoch 11, avg train loss per image 0.059545561541340664, avg valid loss per image 0.4024816939031172, auc 0.911193727460594, sens 0.8521739130434782, spec 0.8014911463187325, th 0.021357513964176178\n",
      "Epoch 12, avg train loss per image 0.04710095247208121, avg valid loss per image 0.38432309175580626, auc 0.9107581344462905, sens 0.8521739130434782, spec 0.8294501397949674, th 0.05275409668684006\n",
      "Epoch 13, avg train loss per image 0.04025097038130518, avg valid loss per image 0.5399784576664204, auc 0.9058957007982494, sens 0.8521739130434782, spec 0.8350419384902144, th 0.005504455883055925\n",
      "Epoch 14, avg train loss per image 0.0265309140368068, avg valid loss per image 0.5165086657105987, auc 0.9081607844726287, sens 0.8521739130434782, spec 0.8275862068965517, th 0.0059287757612764835\n",
      "Epoch 15, avg train loss per image 0.01632047379010993, avg valid loss per image 0.5978937408874699, auc 0.9052190121155638, sens 0.8521739130434782, spec 0.8490214352283318, th 0.0037232364993542433\n",
      "Epoch 16, avg train loss per image 0.017258227011211845, avg valid loss per image 0.525625623882686, auc 0.9138781960371166, sens 0.8521739130434782, spec 0.8574091332712023, th 0.022064168006181717\n",
      "Epoch 17, avg train loss per image 0.024389122814543057, avg valid loss per image 0.5501671415589973, auc 0.9092852222537381, sens 0.8521739130434782, spec 0.8443616029822927, th 0.014216382056474686\n",
      "Epoch 18, avg train loss per image 0.028272897686529245, avg valid loss per image 0.5947074110656144, auc 0.9071680376028202, sens 0.8521739130434782, spec 0.8322460391425909, th 0.002170710824429989\n",
      "Epoch 19, avg train loss per image 0.012628062835187186, avg valid loss per image 0.6476993215880023, auc 0.9035617326471899, sens 0.8521739130434782, spec 0.8080149114631874, th 0.0009149113320745528\n",
      "Epoch 20, avg train loss per image 0.011703340325343372, avg valid loss per image 0.5948192993001526, auc 0.911066088577333, sens 0.8521739130434782, spec 0.848089468779124, th 0.0023118751123547554\n",
      "Epoch 21, avg train loss per image 0.010334314426386076, avg valid loss per image 0.6238307911821899, auc 0.907619838729284, sens 0.8521739130434782, spec 0.804287045666356, th 0.0012590254191309214\n",
      "Epoch 22, avg train loss per image 0.006404065275921754, avg valid loss per image 0.7084608969099229, auc 0.9109242675959318, sens 0.8521739130434782, spec 0.8294501397949674, th 0.00041129309101961553\n",
      "Epoch 23, avg train loss per image 0.009512654007912702, avg valid loss per image 0.6519935799833233, auc 0.916078447262855, sens 0.8521739130434782, spec 0.8387698042870457, th 0.0010472085559740663\n",
      "Epoch 24, avg train loss per image 0.01314376054819153, avg valid loss per image 0.6716621498007639, auc 0.9052575063819442, sens 0.8521739130434782, spec 0.8126747437092264, th 0.0007087666890583932\n",
      "Epoch 25, avg train loss per image 0.0057767561319274794, avg valid loss per image 0.6701592214274018, auc 0.9121783702743224, sens 0.8652173913043478, spec 0.8229263746505125, th 0.0017377877375110984\n",
      "Epoch 26, avg train loss per image 0.004636945663475642, avg valid loss per image 0.8043170154597882, auc 0.9109080594837716, sens 0.8565217391304348, spec 0.8275862068965517, th 0.00020222061721142381\n",
      "Epoch 27, avg train loss per image 0.008674855304854047, avg valid loss per image 0.7489486241113489, auc 0.9058126342234288, sens 0.8521739130434782, spec 0.804287045666356, th 0.000365744432201609\n",
      "Epoch 28, avg train loss per image 0.007597787579640116, avg valid loss per image 0.773077361284257, auc 0.9133980307143725, sens 0.8521739130434782, spec 0.8397017707362535, th 0.0002672019472811371\n",
      "Epoch 29, avg train loss per image 0.002674544696760601, avg valid loss per image 0.9192770789802446, auc 0.9013817415616516, sens 0.8608695652173913, spec 0.7958993476234856, th 0.00010801453026942909\n",
      "Epoch 30, avg train loss per image 0.005553975581067539, avg valid loss per image 0.848046474060128, auc 0.9106730418574497, sens 0.8521739130434782, spec 0.8331780055917987, th 5.153068923391402e-05\n",
      "Epoch 31, avg train loss per image 0.01554150984449878, avg valid loss per image 0.6342656818702417, auc 0.906440698569634, sens 0.8521739130434782, spec 0.8229263746505125, th 0.0018256918992847204\n",
      "Epoch 32, avg train loss per image 0.00789247036545851, avg valid loss per image 0.8392971242660382, auc 0.9087989788889339, sens 0.8565217391304348, spec 0.8145386766076421, th 8.341296052094549e-05\n",
      "Epoch 33, avg train loss per image 0.013366690956651772, avg valid loss per image 0.5641592781165808, auc 0.9110194902548725, sens 0.8521739130434782, spec 0.8024231127679403, th 0.0027906030882149935\n",
      "Epoch 34, avg train loss per image 0.012051371303234549, avg valid loss per image 0.7761260956319954, auc 0.9072794683739211, sens 0.8521739130434782, spec 0.8154706430568499, th 0.00016438894090242684\n",
      "Epoch 35, avg train loss per image 0.01065011632704268, avg valid loss per image 0.6394413133264045, auc 0.9115422018720369, sens 0.8521739130434782, spec 0.8527493010251631, th 0.00465584360063076\n",
      "Epoch 36, avg train loss per image 0.009350020149797765, avg valid loss per image 0.6870179480529253, auc 0.9111430771100936, sens 0.8521739130434782, spec 0.8247903075489282, th 0.0005034164641983807\n",
      "Epoch 37, avg train loss per image 0.006926346396214477, avg valid loss per image 0.6905324277928944, auc 0.9128165646906277, sens 0.8521739130434782, spec 0.8331780055917987, th 0.0006721586687490344\n",
      "Epoch 38, avg train loss per image 0.008379177499374368, avg valid loss per image 0.6244545174116599, auc 0.9036670853762309, sens 0.8521739130434782, spec 0.8014911463187325, th 0.0027050068601965904\n",
      "Epoch 39, avg train loss per image 0.0033189422563717277, avg valid loss per image 0.8166019384072363, auc 0.9066432999716357, sens 0.8521739130434782, spec 0.8387698042870457, th 0.00012488322681747377\n",
      "Epoch 40, avg train loss per image 0.0031653001282022793, avg valid loss per image 0.8813802432940725, auc 0.9002897200048624, sens 0.8521739130434782, spec 0.7679403541472507, th 3.0960167350713164e-05\n",
      "Epoch 41, avg train loss per image 0.006937342892758037, avg valid loss per image 0.7772133752920951, auc 0.8999615057336197, sens 0.8521739130434782, spec 0.8164026095060578, th 0.00041976713691838086\n",
      "Epoch 42, avg train loss per image 0.0022123608332808168, avg valid loss per image 0.7923020014649433, auc 0.9086348717533126, sens 0.8521739130434782, spec 0.8210624417520969, th 0.00018391078629065305\n",
      "Epoch 43, avg train loss per image 0.0036294136552112847, avg valid loss per image 0.7421838437602494, auc 0.9089509299404352, sens 0.8521739130434782, spec 0.8164026095060578, th 0.0005426789866760373\n",
      "Epoch 44, avg train loss per image 0.0057044080038421525, avg valid loss per image 0.7239465154845022, auc 0.9121743182462823, sens 0.8521739130434782, spec 0.8406337371854613, th 0.0007589339511469007\n",
      "Epoch 45, avg train loss per image 0.002024399229124811, avg valid loss per image 0.8137042503217243, auc 0.9133939786863324, sens 0.8521739130434782, spec 0.8406337371854613, th 0.0003053233085665852\n",
      "Epoch 46, avg train loss per image 0.0013523598593849825, avg valid loss per image 0.9391286675049906, auc 0.9078366222294257, sens 0.8565217391304348, spec 0.804287045666356, th 4.3084372009616345e-05\n",
      "Epoch 47, avg train loss per image 0.00640784398700719, avg valid loss per image 0.6123426307737184, auc 0.9082458770614693, sens 0.8521739130434782, spec 0.8322460391425909, th 0.0029516008216887712\n",
      "Epoch 48, avg train loss per image 0.004188149091518764, avg valid loss per image 0.7117199703810861, auc 0.9077515296405851, sens 0.8521739130434782, spec 0.8275862068965517, th 0.001376588363200426\n",
      "Epoch 49, avg train loss per image 0.003061090896183695, avg valid loss per image 0.9296829634827096, auc 0.9097228412820616, sens 0.8521739130434782, spec 0.8322460391425909, th 2.3124055587686598e-05\n",
      "Epoch 50, avg train loss per image 0.0013483110106338584, avg valid loss per image 0.8808784755668728, auc 0.91071964017991, sens 0.8521739130434782, spec 0.8415657036346691, th 6.460317672463134e-05\n",
      "Epoch 51, avg train loss per image 0.004318058410264015, avg valid loss per image 0.7752935893244681, auc 0.9094574334454395, sens 0.8521739130434782, spec 0.8145386766076421, th 0.000385002902476117\n",
      "Epoch 52, avg train loss per image 0.003693394580551704, avg valid loss per image 0.9195663206227815, auc 0.8896977187082135, sens 0.8521739130434782, spec 0.7800559179869525, th 0.00012080862506991252\n",
      "Epoch 53, avg train loss per image 0.01407718598131145, avg valid loss per image 0.6600704302901226, auc 0.9128732930831881, sens 0.8521739130434782, spec 0.8397017707362535, th 0.0011826797854155302\n",
      "Epoch 54, avg train loss per image 0.01247293282031209, avg valid loss per image 0.8552847640475949, auc 0.8995319907613761, sens 0.8565217391304348, spec 0.8108108108108107, th 0.0005061400006525218\n",
      "Epoch 55, avg train loss per image 0.004199760237444871, avg valid loss per image 0.8715086113632937, auc 0.8949572511041777, sens 0.8521739130434782, spec 0.8061509785647717, th 0.0002477669040672481\n",
      "Epoch 56, avg train loss per image 0.0052563454846467446, avg valid loss per image 0.777981640827441, auc 0.9124579602090847, sens 0.8521739130434782, spec 0.8602050326188257, th 0.0007847725064493716\n",
      "Epoch 57, avg train loss per image 0.004627919800764617, avg valid loss per image 0.9219414250080346, auc 0.9055755905830869, sens 0.8521739130434782, spec 0.8434296365330848, th 8.982346480479464e-05\n",
      "Epoch 58, avg train loss per image 0.0020974108173022745, avg valid loss per image 0.8591801307792389, auc 0.9106426516471494, sens 0.8521739130434782, spec 0.8406337371854613, th 0.0005312528810463846\n",
      "Epoch 59, avg train loss per image 0.0032952576828385143, avg valid loss per image 0.9183624462265284, auc 0.9030532031281657, sens 0.8521739130434782, spec 0.842497670083877, th 9.400479029864073e-05\n",
      "Epoch 60, avg train loss per image 0.0034987354360160507, avg valid loss per image 0.9882383022688355, auc 0.9025203614409012, sens 0.8521739130434782, spec 0.8415657036346691, th 9.157255408354104e-05\n",
      "Epoch 61, avg train loss per image 0.005605632172069241, avg valid loss per image 0.8768539498242066, auc 0.9051258154706431, sens 0.8521739130434782, spec 0.8266542404473439, th 0.0005015566130168736\n",
      "Epoch 62, avg train loss per image 0.006465879593313851, avg valid loss per image 0.8495100434706523, auc 0.9070606588597593, sens 0.8521739130434782, spec 0.831314072693383, th 0.00010700453276513144\n",
      "Epoch 63, avg train loss per image 0.0035281404354956555, avg valid loss per image 0.8122865133139742, auc 0.905111633372503, sens 0.8521739130434782, spec 0.8275862068965517, th 0.00041900872020050883\n",
      "Epoch 64, avg train loss per image 0.00032337615513482545, avg valid loss per image 0.9884566133606004, auc 0.9046557802179992, sens 0.8521739130434782, spec 0.8415657036346691, th 4.580966560752131e-05\n",
      "Epoch 65, avg train loss per image 0.002632696717019391, avg valid loss per image 0.7708517404949309, auc 0.9127537582560071, sens 0.8521739130434782, spec 0.8564771668219944, th 0.0015422299038618803\n",
      "Epoch 66, avg train loss per image 0.0004007659009068159, avg valid loss per image 1.0230726379663873, auc 0.907858908383646, sens 0.8521739130434782, spec 0.8490214352283318, th 8.109390182653442e-05\n",
      "Epoch 67, avg train loss per image 0.002263233187291635, avg valid loss per image 0.9552235870478433, auc 0.8996758377567973, sens 0.8521739130434782, spec 0.8164026095060578, th 0.00031666478025726974\n",
      "Epoch 68, avg train loss per image 0.015337461895911631, avg valid loss per image 0.789024136318614, auc 0.8985007496251873, sens 0.8521739130434782, spec 0.7781919850885368, th 0.00038618233520537615\n",
      "Epoch 69, avg train loss per image 0.009129921430919511, avg valid loss per image 0.9768830141651486, auc 0.8744722233477855, sens 0.8521739130434782, spec 0.7642124883504193, th 6.741046672686934e-05\n",
      "Epoch 70, avg train loss per image 0.026129792546594508, avg valid loss per image 0.6197212744055349, auc 0.8931054742898822, sens 0.8521739130434782, spec 0.798695246971109, th 0.006817675195634365\n",
      "Epoch 71, avg train loss per image 0.027353082256654233, avg valid loss per image 0.6895145506055558, auc 0.8901758580169374, sens 0.8521739130434782, spec 0.7688723205964585, th 0.0013512397417798638\n",
      "Epoch 72, avg train loss per image 0.026838000599668104, avg valid loss per image 0.7207595090834239, auc 0.8788747518132826, sens 0.8521739130434782, spec 0.7427772600186393, th 0.0015197660541161895\n",
      "Epoch 73, avg train loss per image 0.016664622696234532, avg valid loss per image 0.6420474116471028, auc 0.8811661736699218, sens 0.8521739130434782, spec 0.7232059645852749, th 0.003196768229827285\n",
      "Epoch 74, avg train loss per image 0.014017973951891194, avg valid loss per image 0.6623157686393076, auc 0.8976943960452205, sens 0.8521739130434782, spec 0.7977632805219013, th 0.002594667486846447\n",
      "Epoch 75, avg train loss per image 0.006088601782023882, avg valid loss per image 0.8052771510516136, auc 0.8980651566108837, sens 0.8521739130434782, spec 0.7837837837837838, th 0.0001960403606062755\n",
      "Epoch 76, avg train loss per image 0.0048344642808500005, avg valid loss per image 0.8239324089221539, auc 0.8913995704850278, sens 0.8521739130434782, spec 0.7530288909599254, th 0.0002567842893768102\n",
      "Epoch 77, avg train loss per image 0.0022265883654400127, avg valid loss per image 0.7385185447364977, auc 0.8978341910126018, sens 0.8565217391304348, spec 0.7893755824790307, th 0.0007284956518560648\n",
      "Epoch 78, avg train loss per image 0.000906335512450543, avg valid loss per image 0.9681162373066314, auc 0.8975161068114592, sens 0.8521739130434782, spec 0.7949673811742777, th 0.00010891196870943531\n",
      "Epoch 79, avg train loss per image 0.002502459723355399, avg valid loss per image 0.8391046319114, auc 0.8901697799748775, sens 0.8521739130434782, spec 0.7958993476234856, th 0.0002775939356070012\n",
      "Epoch 80, avg train loss per image 0.004667367826921117, avg valid loss per image 1.011958016126959, auc 0.8737793265529398, sens 0.8521739130434782, spec 0.6756756756756757, th 7.47633384889923e-05\n",
      "Epoch 81, avg train loss per image 0.0038845813670015626, avg valid loss per image 0.7790386612746502, auc 0.8977673325499413, sens 0.8565217391304348, spec 0.8219944082013048, th 0.0010255459928885102\n",
      "Epoch 82, avg train loss per image 0.002737316316973248, avg valid loss per image 1.0310500920768964, auc 0.8832549941245594, sens 0.8521739130434782, spec 0.750232991612302, th 3.537571319611743e-05\n",
      "Epoch 83, avg train loss per image 0.004731578901388654, avg valid loss per image 0.9461713431893359, auc 0.8911483447465456, sens 0.8521739130434782, spec 0.7837837837837838, th 0.0004675846721511334\n",
      "Epoch 84, avg train loss per image 0.0026040165937136596, avg valid loss per image 0.9231265553854265, auc 0.8977450463957211, sens 0.8521739130434782, spec 0.8024231127679403, th 0.00011184360482729971\n"
     ]
    }
   ],
   "source": [
    "train(model=model, optimizer=optimizer, criterion=criterion, \n",
    "      df_train=df_train, train_path='./train_data', df_val=df_val, val_path='./validation_data', \n",
    "      num_epochs=epochs, batch_size=batch_size, device=device)"
   ]
  },
  {
   "cell_type": "code",
   "execution_count": 17,
   "metadata": {},
   "outputs": [
    {
     "data": {
      "text/plain": [
       "8"
      ]
     },
     "execution_count": 17,
     "metadata": {},
     "output_type": "execute_result"
    }
   ],
   "source": [
    "4 + 4"
   ]
  }
 ],
 "metadata": {
  "environment": {
   "name": "pytorch-gpu.1-4.m50",
   "type": "gcloud",
   "uri": "gcr.io/deeplearning-platform-release/pytorch-gpu.1-4:m50"
  },
  "kernelspec": {
   "display_name": "Python 3",
   "language": "python",
   "name": "python3"
  },
  "language_info": {
   "codemirror_mode": {
    "name": "ipython",
    "version": 3
   },
   "file_extension": ".py",
   "mimetype": "text/x-python",
   "name": "python",
   "nbconvert_exporter": "python",
   "pygments_lexer": "ipython3",
   "version": "3.7.6"
  }
 },
 "nbformat": 4,
 "nbformat_minor": 4
}
